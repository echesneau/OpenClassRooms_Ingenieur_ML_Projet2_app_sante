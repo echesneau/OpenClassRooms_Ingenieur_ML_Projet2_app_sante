{
 "cells": [
  {
   "cell_type": "markdown",
   "id": "47033880",
   "metadata": {},
   "source": [
    "# Projet 2: Concevez une application au service de la santé publique\n",
    "## Notebook d'analyse des données\n",
    "## Analyse univariée"
   ]
  },
  {
   "cell_type": "markdown",
   "id": "955e4739",
   "metadata": {},
   "source": [
    "### Chargement des modules Python"
   ]
  },
  {
   "cell_type": "code",
   "execution_count": 1,
   "id": "44f30fa7",
   "metadata": {},
   "outputs": [],
   "source": [
    "import os\n",
    "import numpy as np\n",
    "import pandas as pd\n",
    "import matplotlib.pyplot as plt"
   ]
  },
  {
   "cell_type": "markdown",
   "id": "de865741",
   "metadata": {},
   "source": [
    "### fonctions utiles\n",
    "#### fonctions d'affichages"
   ]
  },
  {
   "cell_type": "code",
   "execution_count": 3,
   "id": "82069098",
   "metadata": {},
   "outputs": [],
   "source": [
    "def print_random(data, n):\n",
    "    \"\"\"\n",
    "    function to print n random rows in the dataframe\n",
    "    parameters : data : pd.DataFrame\n",
    "                 n : int\n",
    "    returns : None\n",
    "    \"\"\"\n",
    "    i = np.random.randint(0, len(data), size=n)\n",
    "    print(data.iloc[i])"
   ]
  },
  {
   "cell_type": "markdown",
   "id": "c70c1cd8",
   "metadata": {},
   "source": [
    "#### fonction pour les float"
   ]
  },
  {
   "cell_type": "code",
   "execution_count": 4,
   "id": "361c8139",
   "metadata": {},
   "outputs": [],
   "source": [
    "def is_lower(value, target=np.inf) :\n",
    "    \"\"\"\n",
    "    function to verify if the value is lower than the target value\n",
    "    parameters : value : float \n",
    "                 target : float\n",
    "    returns : value if the value is lower than the target,\n",
    "              np.NaN if the value is higher\n",
    "    \"\"\"\n",
    "    if pd.notnull(value) :\n",
    "        if value <= target :\n",
    "            return value\n",
    "        else :\n",
    "            print(f\"{value} is higher than the target {target}\")\n",
    "            return np.NaN\n",
    "    else :\n",
    "        return np.NaN"
   ]
  },
  {
   "cell_type": "code",
   "execution_count": 5,
   "id": "e52f999e",
   "metadata": {},
   "outputs": [],
   "source": [
    "def is_higher(value, target=-np.inf) :\n",
    "    \"\"\"\n",
    "    function to verify if the value is higher than the target value\n",
    "    parameters : value : float \n",
    "                 target : float\n",
    "    returns : value if the value is higher than the target,\n",
    "              np.NaN if the value is lower\n",
    "    \"\"\"\n",
    "    if pd.notnull(value) :\n",
    "        if value >= target :\n",
    "            return value\n",
    "        else :\n",
    "            print(f\"{value} is lower than the target {target}\")\n",
    "            return np.NaN\n",
    "    else :\n",
    "        return np.NaN"
   ]
  },
  {
   "cell_type": "markdown",
   "id": "a5f527af",
   "metadata": {},
   "source": [
    "#### fonctions pour les variables list"
   ]
  },
  {
   "cell_type": "code",
   "execution_count": 6,
   "id": "5ff22d00",
   "metadata": {},
   "outputs": [],
   "source": [
    "def remove_lists(df, column=None) :\n",
    "    \"not used\"\n",
    "    if column not in df.columns :\n",
    "        raise ValueError(f\"{columns} is not a column of the dataframe\")\n",
    "    odf = pd.DataFrame(columns = df.columns)\n",
    "    for i in range(0, len(df)):\n",
    "        line = df.iloc[i]\n",
    "        if len(line[column]) == 0:\n",
    "            line[column] = np.NaN\n",
    "            odf = odf.append(line)\n",
    "        else :\n",
    "            for val in line[column] :\n",
    "                oline = line\n",
    "                oline[column] = val\n",
    "                odf = odf.append(oline)\n",
    "    return odf\n",
    "    #odf = df.copy()\n",
    "    #print(df.columns, odf.columns)\n",
    "    #odf = odf.drop(labels=column, axis=1)\n",
    "    #print(odf.columns)"
   ]
  },
  {
   "cell_type": "code",
   "execution_count": 7,
   "id": "3c04eaa3",
   "metadata": {},
   "outputs": [],
   "source": [
    "def create_list(value) :\n",
    "    \"\"\"\n",
    "    function to create list from str chains\n",
    "    if the type of value is not str, return empty list\n",
    "    \n",
    "    parameters : value : str\n",
    "    \n",
    "    returns : list\n",
    "    \"\"\"\n",
    "    if type(value) == str :\n",
    "        if value.startswith(\"[\") :\n",
    "            value = value[1:]\n",
    "        if value.endswith(']') :\n",
    "            value = value[:-1]\n",
    "        return value.split(',')\n",
    "    elif (type(value) == int or type(value) == float) and pd.notnull(value) :\n",
    "        print(f\"Type of {value} is {type(value)} : not expected => ignored \")\n",
    "        return []\n",
    "    else :\n",
    "        return []"
   ]
  },
  {
   "cell_type": "markdown",
   "id": "b102fe18",
   "metadata": {},
   "source": [
    "#### fonctions pour les modification / créations de variables"
   ]
  },
  {
   "cell_type": "code",
   "execution_count": 8,
   "id": "93030068",
   "metadata": {},
   "outputs": [],
   "source": [
    "def carbon_grade(value) :\n",
    "    \"\"\"\n",
    "    function to define a carbon grade. \n",
    "    the carbon grade is a value between a and e, function of the carbon-footprint.\n",
    "    The grade is that of the \"loi climat\" in France.\n",
    "    \n",
    "    parameters : value : float or int \n",
    "                    carbon-footprint\n",
    "    return : str \n",
    "                str between a and e\n",
    "    \"\"\"\n",
    "    if type(value) in [float, int] :\n",
    "        if pd.notnull(value) :\n",
    "            if value <= 80 :\n",
    "                return \"a\"\n",
    "            elif value <= 180 :\n",
    "                return \"b\"\n",
    "            elif value <= 330 :\n",
    "                return \"c\"\n",
    "            elif value <= 530 :\n",
    "                return \"d\"\n",
    "            else :\n",
    "                return \"e\"\n",
    "        else :\n",
    "            return np.NaN\n",
    "    else :\n",
    "        print(f\"Value of type {type(value)} has not a carbon grade\")\n",
    "        return np.NaN"
   ]
  },
  {
   "cell_type": "code",
   "execution_count": 9,
   "id": "8e55cca5",
   "metadata": {},
   "outputs": [],
   "source": [
    "def is_filled(value) :\n",
    "    \"\"\"\n",
    "    function to indicate if a value is filled or not\n",
    "    parameters : value : str, float, int or list\n",
    "    returns : Bool \n",
    "    \"\"\"\n",
    "    if type(value) in [str, float, int] :\n",
    "        return pd.notnull(value)\n",
    "    elif type(value) == list :\n",
    "        return len(value) > 0\n",
    "    else :\n",
    "        print(f\"Variable of type {type(value)} is not supported\")\n",
    "        "
   ]
  },
  {
   "cell_type": "code",
   "execution_count": 10,
   "id": "2a55e35c",
   "metadata": {},
   "outputs": [],
   "source": [
    "def int2grade(value) :\n",
    "    \"\"\"\n",
    "    function to convert a int to a grade in letter\n",
    "    parameters : int \n",
    "    return : str\n",
    "    \"\"\"\n",
    "    letters = [\"a\",\"b\",\"c\",\"d\",\"e\"]\n",
    "    if pd.notnull(value) :\n",
    "        return letters[int(value)]\n",
    "    else :\n",
    "        return np.NaN        "
   ]
  },
  {
   "cell_type": "code",
   "execution_count": 11,
   "id": "c62dcc01",
   "metadata": {},
   "outputs": [],
   "source": [
    "def grade2int(value) :\n",
    "    \"\"\"\n",
    "    function to convert a letter to a integer\n",
    "    parameters : str\n",
    "    return : int\n",
    "    \"\"\"\n",
    "    letters = [\"a\",\"b\",\"c\",\"d\",\"e\"]\n",
    "    if pd.notnull(value) :\n",
    "        return letters.index(value)\n",
    "    else :\n",
    "        return np.NaN    "
   ]
  },
  {
   "cell_type": "markdown",
   "id": "16a7053c",
   "metadata": {},
   "source": [
    "### Variables globales"
   ]
  },
  {
   "cell_type": "code",
   "execution_count": 12,
   "id": "ddaf839a",
   "metadata": {},
   "outputs": [],
   "source": [
    "DATA_FILE = \"database_cleaned.csv\""
   ]
  },
  {
   "cell_type": "markdown",
   "id": "64fe7808",
   "metadata": {},
   "source": [
    "### Chargement du dataset nettoyé"
   ]
  },
  {
   "cell_type": "code",
   "execution_count": 13,
   "id": "8319b9ca",
   "metadata": {},
   "outputs": [
    {
     "name": "stdout",
     "output_type": "stream",
     "text": [
      "Number of lines     = 320772\n",
      "Number of variables = 17\n",
      "Variables           = code, url, product_name, categories_tags, nutrition_grade_fr, carbon-footprint_100g, origins_tags, manufacturing_places_tags, additives_n, energy_100g, fat_100g, saturated-fat_100g, fruits-vegetables-nuts_100g, sodium_100g, sugars_100g, pnns_groups_1, pnns_groups_2\n"
     ]
    }
   ],
   "source": [
    "if os.path.isfile(DATA_FILE) :\n",
    "    DATA = pd.read_csv(DATA_FILE, sep=\";\", low_memory=False)\n",
    "    SIZE = len(DATA)\n",
    "    N_VAR = len(DATA.columns)\n",
    "    print(f\"Number of lines     = {SIZE}\")\n",
    "    print(f\"Number of variables = {N_VAR}\")\n",
    "    print(f\"Variables           = {', '.join(DATA.columns)}\")\n",
    "else :\n",
    "    raise ValueError(f\"{DATA_FILE} is not a file\")"
   ]
  },
  {
   "cell_type": "markdown",
   "id": "870317b2",
   "metadata": {},
   "source": [
    "### Recréation des listes dans les variables de type list"
   ]
  },
  {
   "cell_type": "code",
   "execution_count": 14,
   "id": "6b277643",
   "metadata": {},
   "outputs": [],
   "source": [
    "for col in ['categories_tags', 'origins_tags', 'manufacturing_places_tags'] :\n",
    "    DATA[col] = DATA[col].apply(create_list)"
   ]
  },
  {
   "cell_type": "code",
   "execution_count": 15,
   "id": "761d586f",
   "metadata": {},
   "outputs": [
    {
     "name": "stdout",
     "output_type": "stream",
     "text": [
      "177               [france]\n",
      "236       [united-kingdom]\n",
      "259              [germany]\n",
      "267              [germany]\n",
      "268              [germany]\n",
      "                ...       \n",
      "320637         [australia]\n",
      "320669             [spain]\n",
      "320726            [norway]\n",
      "320743         [sri-lanka]\n",
      "320758            [france]\n",
      "Name: origins_tags, Length: 19871, dtype: object\n"
     ]
    }
   ],
   "source": [
    "print(DATA[DATA['origins_tags'].str.len() != 0 ]['origins_tags'])"
   ]
  },
  {
   "cell_type": "markdown",
   "id": "e509103a",
   "metadata": {},
   "source": [
    "###  Création de nouvelles variables\n",
    "#### Création d'un carbone score"
   ]
  },
  {
   "cell_type": "code",
   "execution_count": 16,
   "id": "07b48cf7",
   "metadata": {},
   "outputs": [],
   "source": [
    "DATA['carbon_grade'] = DATA['carbon-footprint_100g'].apply(carbon_grade)"
   ]
  },
  {
   "cell_type": "code",
   "execution_count": 17,
   "id": "3dbd7aeb",
   "metadata": {},
   "outputs": [
    {
     "name": "stdout",
     "output_type": "stream",
     "text": [
      "       carbon_grade  carbon-footprint_100g\n",
      "200893            e                  855.0\n",
      "182561            b                   82.8\n",
      "249897            a                   73.0\n",
      "287268            d                  345.0\n",
      "200964            d                  510.0\n",
      "200152            e                 1065.0\n",
      "283534            a                    0.0\n",
      "249949            c                  312.0\n",
      "199880            e                  945.0\n",
      "296562            a                    9.1\n"
     ]
    }
   ],
   "source": [
    "print_random(DATA[pd.notnull(DATA['carbon_grade'])][[\"carbon_grade\", \"carbon-footprint_100g\"]], 10)"
   ]
  },
  {
   "cell_type": "markdown",
   "id": "8590f107",
   "metadata": {},
   "source": [
    "#### Création de variables qui donnent le nombre d'éléments dans les variables de type list"
   ]
  },
  {
   "cell_type": "code",
   "execution_count": 18,
   "id": "633e375a",
   "metadata": {},
   "outputs": [],
   "source": [
    "for col in ['categories_tags', 'origins_tags', 'manufacturing_places_tags'] :\n",
    "    DATA['nb_'+col] = DATA[col].apply(len)"
   ]
  },
  {
   "cell_type": "code",
   "execution_count": 19,
   "id": "ef92ac79",
   "metadata": {},
   "outputs": [
    {
     "name": "stdout",
     "output_type": "stream",
     "text": [
      "        nb_categories_tags                                    categories_tags\n",
      "269560                   3  [sugary-snacks, confectioneries, chocolate-cov...\n",
      "228700                   5  [corbieres, alcoholic-beverages, beverages, wi...\n",
      "231876                   3  [frozen-foods, frozen-pizzas-and-pies, frozen-...\n",
      "276684                   3      [sugary-snacks, biscuits-and-cakes, biscuits]\n",
      "60318                    0                                                 []\n",
      "2460                     0                                                 []\n",
      "142142                   0                                                 []\n",
      "158092                   0                                                 []\n",
      "90782                    0                                                 []\n",
      "167232                   0                                                 []\n"
     ]
    }
   ],
   "source": [
    "print_random(DATA[pd.notnull(DATA['nb_categories_tags'])][[\"nb_categories_tags\", \"categories_tags\"]], 10)"
   ]
  },
  {
   "cell_type": "markdown",
   "id": "8b49d189",
   "metadata": {},
   "source": [
    "### statistiques sur le nombre d'individus correctement renseigné pour chaque variable\n",
    "#### creation d'un dataframe indiquant si la variable est renseignée"
   ]
  },
  {
   "cell_type": "code",
   "execution_count": 20,
   "id": "16bb7994",
   "metadata": {},
   "outputs": [],
   "source": [
    "data_filled = pd.DataFrame()\n",
    "for col in DATA.columns :\n",
    "    data_filled[col] = DATA[col].apply(is_filled)"
   ]
  },
  {
   "cell_type": "code",
   "execution_count": 21,
   "id": "044b0b39",
   "metadata": {},
   "outputs": [
    {
     "data": {
      "text/html": [
       "<div>\n",
       "<style scoped>\n",
       "    .dataframe tbody tr th:only-of-type {\n",
       "        vertical-align: middle;\n",
       "    }\n",
       "\n",
       "    .dataframe tbody tr th {\n",
       "        vertical-align: top;\n",
       "    }\n",
       "\n",
       "    .dataframe thead th {\n",
       "        text-align: right;\n",
       "    }\n",
       "</style>\n",
       "<table border=\"1\" class=\"dataframe\">\n",
       "  <thead>\n",
       "    <tr style=\"text-align: right;\">\n",
       "      <th></th>\n",
       "      <th>code</th>\n",
       "      <th>url</th>\n",
       "      <th>product_name</th>\n",
       "      <th>categories_tags</th>\n",
       "      <th>nutrition_grade_fr</th>\n",
       "      <th>carbon-footprint_100g</th>\n",
       "      <th>origins_tags</th>\n",
       "      <th>manufacturing_places_tags</th>\n",
       "      <th>additives_n</th>\n",
       "      <th>energy_100g</th>\n",
       "      <th>...</th>\n",
       "      <th>saturated-fat_100g</th>\n",
       "      <th>fruits-vegetables-nuts_100g</th>\n",
       "      <th>sodium_100g</th>\n",
       "      <th>sugars_100g</th>\n",
       "      <th>pnns_groups_1</th>\n",
       "      <th>pnns_groups_2</th>\n",
       "      <th>carbon_grade</th>\n",
       "      <th>nb_categories_tags</th>\n",
       "      <th>nb_origins_tags</th>\n",
       "      <th>nb_manufacturing_places_tags</th>\n",
       "    </tr>\n",
       "  </thead>\n",
       "  <tbody>\n",
       "    <tr>\n",
       "      <th>0</th>\n",
       "      <td>True</td>\n",
       "      <td>True</td>\n",
       "      <td>True</td>\n",
       "      <td>False</td>\n",
       "      <td>False</td>\n",
       "      <td>False</td>\n",
       "      <td>False</td>\n",
       "      <td>False</td>\n",
       "      <td>False</td>\n",
       "      <td>False</td>\n",
       "      <td>...</td>\n",
       "      <td>False</td>\n",
       "      <td>False</td>\n",
       "      <td>False</td>\n",
       "      <td>False</td>\n",
       "      <td>False</td>\n",
       "      <td>False</td>\n",
       "      <td>False</td>\n",
       "      <td>True</td>\n",
       "      <td>True</td>\n",
       "      <td>True</td>\n",
       "    </tr>\n",
       "    <tr>\n",
       "      <th>1</th>\n",
       "      <td>True</td>\n",
       "      <td>True</td>\n",
       "      <td>True</td>\n",
       "      <td>False</td>\n",
       "      <td>True</td>\n",
       "      <td>False</td>\n",
       "      <td>False</td>\n",
       "      <td>False</td>\n",
       "      <td>True</td>\n",
       "      <td>True</td>\n",
       "      <td>...</td>\n",
       "      <td>True</td>\n",
       "      <td>False</td>\n",
       "      <td>True</td>\n",
       "      <td>True</td>\n",
       "      <td>False</td>\n",
       "      <td>False</td>\n",
       "      <td>False</td>\n",
       "      <td>True</td>\n",
       "      <td>True</td>\n",
       "      <td>True</td>\n",
       "    </tr>\n",
       "    <tr>\n",
       "      <th>2</th>\n",
       "      <td>True</td>\n",
       "      <td>True</td>\n",
       "      <td>True</td>\n",
       "      <td>False</td>\n",
       "      <td>True</td>\n",
       "      <td>False</td>\n",
       "      <td>False</td>\n",
       "      <td>False</td>\n",
       "      <td>True</td>\n",
       "      <td>True</td>\n",
       "      <td>...</td>\n",
       "      <td>True</td>\n",
       "      <td>False</td>\n",
       "      <td>True</td>\n",
       "      <td>True</td>\n",
       "      <td>False</td>\n",
       "      <td>False</td>\n",
       "      <td>False</td>\n",
       "      <td>True</td>\n",
       "      <td>True</td>\n",
       "      <td>True</td>\n",
       "    </tr>\n",
       "    <tr>\n",
       "      <th>3</th>\n",
       "      <td>True</td>\n",
       "      <td>False</td>\n",
       "      <td>True</td>\n",
       "      <td>False</td>\n",
       "      <td>True</td>\n",
       "      <td>False</td>\n",
       "      <td>False</td>\n",
       "      <td>False</td>\n",
       "      <td>True</td>\n",
       "      <td>True</td>\n",
       "      <td>...</td>\n",
       "      <td>True</td>\n",
       "      <td>False</td>\n",
       "      <td>True</td>\n",
       "      <td>True</td>\n",
       "      <td>False</td>\n",
       "      <td>False</td>\n",
       "      <td>False</td>\n",
       "      <td>True</td>\n",
       "      <td>True</td>\n",
       "      <td>True</td>\n",
       "    </tr>\n",
       "    <tr>\n",
       "      <th>4</th>\n",
       "      <td>True</td>\n",
       "      <td>True</td>\n",
       "      <td>True</td>\n",
       "      <td>False</td>\n",
       "      <td>False</td>\n",
       "      <td>False</td>\n",
       "      <td>False</td>\n",
       "      <td>False</td>\n",
       "      <td>True</td>\n",
       "      <td>True</td>\n",
       "      <td>...</td>\n",
       "      <td>False</td>\n",
       "      <td>False</td>\n",
       "      <td>False</td>\n",
       "      <td>False</td>\n",
       "      <td>False</td>\n",
       "      <td>False</td>\n",
       "      <td>False</td>\n",
       "      <td>True</td>\n",
       "      <td>True</td>\n",
       "      <td>True</td>\n",
       "    </tr>\n",
       "  </tbody>\n",
       "</table>\n",
       "<p>5 rows × 21 columns</p>\n",
       "</div>"
      ],
      "text/plain": [
       "   code    url  product_name  categories_tags  nutrition_grade_fr  \\\n",
       "0  True   True          True            False               False   \n",
       "1  True   True          True            False                True   \n",
       "2  True   True          True            False                True   \n",
       "3  True  False          True            False                True   \n",
       "4  True   True          True            False               False   \n",
       "\n",
       "   carbon-footprint_100g  origins_tags  manufacturing_places_tags  \\\n",
       "0                  False         False                      False   \n",
       "1                  False         False                      False   \n",
       "2                  False         False                      False   \n",
       "3                  False         False                      False   \n",
       "4                  False         False                      False   \n",
       "\n",
       "   additives_n  energy_100g  ...  saturated-fat_100g  \\\n",
       "0        False        False  ...               False   \n",
       "1         True         True  ...                True   \n",
       "2         True         True  ...                True   \n",
       "3         True         True  ...                True   \n",
       "4         True         True  ...               False   \n",
       "\n",
       "   fruits-vegetables-nuts_100g  sodium_100g  sugars_100g  pnns_groups_1  \\\n",
       "0                        False        False        False          False   \n",
       "1                        False         True         True          False   \n",
       "2                        False         True         True          False   \n",
       "3                        False         True         True          False   \n",
       "4                        False        False        False          False   \n",
       "\n",
       "   pnns_groups_2  carbon_grade  nb_categories_tags  nb_origins_tags  \\\n",
       "0          False         False                True             True   \n",
       "1          False         False                True             True   \n",
       "2          False         False                True             True   \n",
       "3          False         False                True             True   \n",
       "4          False         False                True             True   \n",
       "\n",
       "   nb_manufacturing_places_tags  \n",
       "0                          True  \n",
       "1                          True  \n",
       "2                          True  \n",
       "3                          True  \n",
       "4                          True  \n",
       "\n",
       "[5 rows x 21 columns]"
      ]
     },
     "execution_count": 21,
     "metadata": {},
     "output_type": "execute_result"
    }
   ],
   "source": [
    "data_filled.head()"
   ]
  },
  {
   "cell_type": "markdown",
   "id": "d20879c3",
   "metadata": {},
   "source": [
    "#### Représentation en diagramme en baton"
   ]
  },
  {
   "cell_type": "code",
   "execution_count": 23,
   "id": "b4fa0883",
   "metadata": {},
   "outputs": [
    {
     "data": {
      "image/png": "[encoded data removed]",
      "text/plain": [
       "<Figure size 648x288 with 1 Axes>"
      ]
     },
     "metadata": {
      "needs_background": "light"
     },
     "output_type": "display_data"
    }
   ],
   "source": [
    "df = data_filled[data_filled == True].count()/SIZE*100\n",
    "df = df.sort_values(ascending=False)\n",
    "\n",
    "df.plot(kind=\"bar\", figsize=(9,4))\n",
    "plt.xticks(fontsize=15)\n",
    "plt.ylabel(\"% filled value\", fontsize=15)\n",
    "plt.show()"
   ]
  },
  {
   "cell_type": "markdown",
   "id": "8340f26d",
   "metadata": {},
   "source": [
    "Après la première analyse comportant les variables code, url, product_name , nutrition_grade, categories_tags, manufacturing_places_tags, origins_tags et carbon-footprint_100g,  \n",
    "il apparait que trop peu de variables sont correctement renseignées pour pouvoir créer l'application.  \n",
    "Le choix a été fait d'ajouter des variables, un retour au nettoyage est nécessaire.  \n",
    "  \n",
    "Après le rajout de variables, 10 variables (en plus de celles représentant la longueur des listes), sont renseignées pour plus de 60% des produits.  \n",
    "On remarque que les variables pnns_groups_1 et pnns_groups_2 sont aussi peu remplies que la variable categories.\n",
    "Pour le développement de l'application, il faudra envisager un algorithme de clustering pour catégoriser les produits avec un taux de remplissage satisfaisant.  "
   ]
  },
  {
   "cell_type": "markdown",
   "id": "31d5af5f",
   "metadata": {},
   "source": [
    "### statistiques sur les noms des produits\n",
    "#### nombre de mots dans le nom des produits"
   ]
  },
  {
   "cell_type": "code",
   "execution_count": 24,
   "id": "8d1988f1",
   "metadata": {},
   "outputs": [
    {
     "name": "stdout",
     "output_type": "stream",
     "text": [
      "Moyenne du nombre de mots = 3.76\n",
      "Mediane du nombre de mots = 3.00\n",
      "Déviation standard du nombre de mots = 2.31\n",
      "Nombre de mots représentant 95% des noms de produits = 8.39\n"
     ]
    },
    {
     "data": {
      "image/png": "[encoded data removed]",
      "text/plain": [
       "<Figure size 432x288 with 2 Axes>"
      ]
     },
     "metadata": {
      "needs_background": "light"
     },
     "output_type": "display_data"
    }
   ],
   "source": [
    "DATA['product_name_n_words'] = DATA['product_name'].apply(lambda x: x.split('_') if (pd.notnull(x)) else []).apply(len)\n",
    "df = DATA['product_name_n_words'].value_counts(normalize=True).sort_index()\n",
    "print(f\"Moyenne du nombre de mots = {DATA['product_name_n_words'].mean():.2f}\")\n",
    "print(f\"Mediane du nombre de mots = {DATA['product_name_n_words'].median():.2f}\")\n",
    "print(f\"Déviation standard du nombre de mots = {DATA['product_name_n_words'].std():.2f}\")\n",
    "print(\"Nombre de mots représentant 95% des noms de produits = \"+\\\n",
    "      f\"{DATA['product_name_n_words'].mean()+2*DATA['product_name_n_words'].std():.2f}\")\n",
    "fig, ax1 = plt.subplots()\n",
    "ax2 = ax1.twinx()\n",
    "ax1.bar(df.index, df.values)\n",
    "plt.xlim(-0.5, 9.5)\n",
    "plt.xticks(np.arange(0,10))\n",
    "ax2.plot(df.index, df.cumsum().values, linestyle='-', marker='s', color='red')\n",
    "ax1.set_xlabel(\"Number of words\", fontsize=15)\n",
    "ax1.set_ylabel(\"Frequency\", fontsize=15)\n",
    "ax2.set_ylabel('Cummulative frequency', fontsize=15)\n",
    "plt.show()"
   ]
  },
  {
   "cell_type": "markdown",
   "id": "45cf3360",
   "metadata": {},
   "source": [
    "#### identification des valeurs aberrantes\n",
    "on concidère que les noms de produits avec plus de 9 mots"
   ]
  },
  {
   "cell_type": "code",
   "execution_count": 25,
   "id": "37e36369",
   "metadata": {},
   "outputs": [
    {
     "name": "stdout",
     "output_type": "stream",
     "text": [
      "220632    l'original_tartare,_ail_&_fines_herbes_(8_port...\n",
      "320163    chocolat_mylk_à_la_mandarine_et_à_la_gubinge_a...\n",
      "121426    earth_&_vine_provisions,_grilling_&_dipping_sa...\n",
      "217437    abbaye_de_sept-fons_-_confiture_extra_-_abrico...\n",
      "113087    smoke_master,_black_forest_ham_with_natural_ju...\n",
      "292890    tendre_croc'_l'original_jambon_fromage_-_pain_...\n",
      "95386     gourmet_cheese_made_with_fresh_milk_and_cream,...\n",
      "168240    barts_bakery,_the_best_oatmeal_raisin_cookies_...\n",
      "19879     super_premium_san_francisco's_official_ice_cre...\n",
      "101268    pure_fruit,_100%_juice_smoothie,_berry_flavore...\n",
      "295617    betty_bossi,_good_food_:_grilled_chicken_&_kal...\n",
      "210508    sauce_vinaigrette_au_vinaigre_de_vin_rouge_et_...\n",
      "104967    fra_diavolo_arribiata_-_hot_and_spicy_pasta_sa...\n",
      "229976    olives_vertes_tournantes_et_picholines_du_maro...\n",
      "244104    yaourt_de_brebis_brassé_à_la_confiture_de_ceri...\n",
      "137790    original_sauce_seasoned_pork_st._louis_style_s...\n",
      "153781    pom,_antioxidant_super_tea,_pomegranate_honey_...\n",
      "128350    musco_family_olive_co.,_early_california,_extr...\n",
      "126946      how_sweet_it_is_fudge_&_candy_co.,_cotton_candy\n",
      "54982     sweetened_naturally_&_artificially_chocolate_f...\n",
      "Name: product_name, dtype: object\n"
     ]
    },
    {
     "data": {
      "image/png": "[encoded data removed]",
      "text/plain": [
       "<Figure size 432x288 with 1 Axes>"
      ]
     },
     "metadata": {
      "needs_background": "light"
     },
     "output_type": "display_data"
    }
   ],
   "source": [
    "print_random(DATA['product_name'][DATA['product_name_n_words']>9], 20)\n",
    "df = DATA['product_name_n_words'][DATA['product_name_n_words']>9].value_counts().sort_index()\n",
    "df = df/SIZE\n",
    "df.plot(linestyle='', marker='+')\n",
    "plt.xlabel(\"Number of words\", fontsize=15)\n",
    "plt.ylabel(\"Frequency\", fontsize=15)\n",
    "plt.show()"
   ]
  },
  {
   "cell_type": "markdown",
   "id": "66564fea",
   "metadata": {},
   "source": [
    "on remarque que des noms de produits peuvent contenir jusqu'à 35 mots,  \n",
    "Au delà de 15 mots, la fréquence est très faible (< 0.1%)"
   ]
  },
  {
   "cell_type": "markdown",
   "id": "302b24ce",
   "metadata": {},
   "source": [
    "### Statistique sur les variables quanlitatives\n",
    "#### Statistique sur le nutriscore"
   ]
  },
  {
   "cell_type": "code",
   "execution_count": 26,
   "id": "40d998db",
   "metadata": {},
   "outputs": [
    {
     "name": "stdout",
     "output_type": "stream",
     "text": [
      "a    0.161087\n",
      "b    0.154808\n",
      "c    0.205859\n",
      "d    0.283726\n",
      "e    0.194521\n",
      "Name: nutrition_grade_fr, dtype: float64\n"
     ]
    },
    {
     "data": {
      "image/png": "[encoded data removed]",
      "text/plain": [
       "<Figure size 432x288 with 1 Axes>"
      ]
     },
     "metadata": {},
     "output_type": "display_data"
    }
   ],
   "source": [
    "df = DATA[\"nutrition_grade_fr\"].value_counts(normalize=True).sort_index()\n",
    "print(df)\n",
    "df.plot(kind=\"pie\")\n",
    "plt.axis('equal') \n",
    "plt.show()"
   ]
  },
  {
   "cell_type": "markdown",
   "id": "a42d9d97",
   "metadata": {},
   "source": [
    "La totalité des valeurs du nutriscore sont correctement représentées.  \n",
    "Il y a une légère sur-représentation de la valeur \"d\", mais qui peut être réelle.  \n",
    "On remarque que presque 50% des produits ont un nutriscore \"d\" ou inférieur."
   ]
  },
  {
   "cell_type": "markdown",
   "id": "31b1fd1d",
   "metadata": {},
   "source": [
    "#### Statistique sur l'empreinte carbone"
   ]
  },
  {
   "cell_type": "code",
   "execution_count": 27,
   "id": "fb0d929e",
   "metadata": {},
   "outputs": [
    {
     "name": "stdout",
     "output_type": "stream",
     "text": [
      "a    62\n",
      "b    62\n",
      "c    58\n",
      "d    35\n",
      "e    51\n",
      "Name: carbon_grade, dtype: int64\n"
     ]
    },
    {
     "data": {
      "image/png": "[encoded data removed]",
      "text/plain": [
       "<Figure size 432x288 with 1 Axes>"
      ]
     },
     "metadata": {},
     "output_type": "display_data"
    }
   ],
   "source": [
    "df = DATA[\"carbon_grade\"].value_counts(normalize=False).sort_index()\n",
    "print(df)\n",
    "df.plot(kind=\"pie\")\n",
    "plt.axis('equal') \n",
    "plt.show()"
   ]
  },
  {
   "cell_type": "markdown",
   "id": "c10bdadf",
   "metadata": {},
   "source": [
    "La totalité des valeurs du carbone score sont correctement représentées, avec une légère sous-représentation de la valeur \"d\".  \n",
    "Presque 50% des produits ont des carbone scores \"a\" ou \"b\".  \n",
    "On peut se demander si cette observation est réelle ou si les produits avec un faible impacte carbone sont sur représentés dans l'échantillon."
   ]
  },
  {
   "cell_type": "markdown",
   "id": "f0842383",
   "metadata": {},
   "source": [
    "#### Analyse du lieux de fabrication\n",
    "Les variables contenues dans des listes ne peuvent pas être facilement analysées,  \n",
    "j'ai décidé de créer une ligne par valeur,  \n",
    "Cela va engendrer des doublons mais permet d'analyser plus simplement la variable"
   ]
  },
  {
   "cell_type": "code",
   "execution_count": 57,
   "id": "de69c5c3",
   "metadata": {},
   "outputs": [
    {
     "name": "stdout",
     "output_type": "stream",
     "text": [
      "56538            england\n",
      "56538     united-kingdom\n",
      "56640           scotland\n",
      "56640     united-kingdom\n",
      "57279            ecuador\n",
      "               ...      \n",
      "318870         australia\n",
      "318926       new-zealand\n",
      "318926         australia\n",
      "320094          thailand\n",
      "320094         australia\n",
      "Name: manufacturing_places_tags, Length: 750, dtype: object\n"
     ]
    }
   ],
   "source": [
    "#data_no_list = remove_lists(DATA, column=\"manufacturing_places_tags\")\n",
    "data_no_list = DATA.explode(\"manufacturing_places_tags\")\n",
    "print(data_no_list[data_no_list['nb_manufacturing_places_tags'] > 1 ]['manufacturing_places_tags'])"
   ]
  },
  {
   "cell_type": "code",
   "execution_count": 58,
   "id": "5b9beca5",
   "metadata": {},
   "outputs": [
    {
     "name": "stdout",
     "output_type": "stream",
     "text": [
      "Nombre de pays différent = 113\n",
      "france                              0.534713\n",
      "spain                               0.101941\n",
      "germany                             0.070140\n",
      "italy                               0.058207\n",
      "belgium                             0.032401\n",
      "                                      ...   \n",
      "ukraine                             0.000029\n",
      "lao-people's-democratic-republic    0.000029\n",
      "maldives                            0.000029\n",
      "sao-tome-and-principe               0.000029\n",
      "malta                               0.000029\n",
      "Name: manufacturing_places_tags, Length: 113, dtype: float64\n"
     ]
    }
   ],
   "source": [
    "country = np.unique(data_no_list[pd.notnull(data_no_list['manufacturing_places_tags'])][\"manufacturing_places_tags\"].values)\n",
    "print(f\"Nombre de pays différent = {len(country)}\")\n",
    "counter = data_no_list['manufacturing_places_tags'].value_counts(normalize=True)\n",
    "print(counter)"
   ]
  },
  {
   "cell_type": "code",
   "execution_count": 59,
   "id": "84737f4e",
   "metadata": {},
   "outputs": [
    {
     "name": "stdout",
     "output_type": "stream",
     "text": [
      "Nombre de pays représentant moins de 1% = 103\n"
     ]
    },
    {
     "data": {
      "image/png": "[encoded data removed]",
      "text/plain": [
       "<Figure size 432x288 with 1 Axes>"
      ]
     },
     "metadata": {},
     "output_type": "display_data"
    }
   ],
   "source": [
    "other_country = list(counter[counter<0.01].index)\n",
    "#print(other_country)\n",
    "print(f\"Nombre de pays représentant moins de 1% = {len(other_country)}\")\n",
    "data_no_list['manufacturing_places_tags'] = data_no_list['manufacturing_places_tags'].apply(lambda x : x if x not in other_country else \"other\")\n",
    "counter = data_no_list['manufacturing_places_tags'].value_counts(normalize=False)\n",
    "counter.plot(kind='pie')\n",
    "plt.show()"
   ]
  },
  {
   "cell_type": "markdown",
   "id": "eb2430f3",
   "metadata": {},
   "source": [
    "La france semble sur représenté dans les lieux de transformations.  \n",
    "Il est peut probable que la france représente 50% de la fabrication des produits alimentaires.  \n",
    "Cela peut signifier que des nombreux collaborateurs se trouvent en France."
   ]
  },
  {
   "cell_type": "markdown",
   "id": "236d8b12",
   "metadata": {},
   "source": [
    "#### Analyse du lieux d'origines des ingrédients"
   ]
  },
  {
   "cell_type": "code",
   "execution_count": 60,
   "id": "a73c1573",
   "metadata": {},
   "outputs": [
    {
     "name": "stdout",
     "output_type": "stream",
     "text": [
      "692             scotland\n",
      "692       united-kingdom\n",
      "894                spain\n",
      "894       united-kingdom\n",
      "16019              china\n",
      "               ...      \n",
      "320589         indonesia\n",
      "320598          malaysia\n",
      "320598         indonesia\n",
      "320600          malaysia\n",
      "320600         indonesia\n",
      "Name: origins_tags, Length: 2087, dtype: object\n"
     ]
    }
   ],
   "source": [
    "data_no_list = DATA.explode(\"origins_tags\")\n",
    "print(data_no_list[data_no_list['nb_origins_tags'] > 1 ]['origins_tags'])"
   ]
  },
  {
   "cell_type": "code",
   "execution_count": 61,
   "id": "de4da521",
   "metadata": {},
   "outputs": [
    {
     "name": "stdout",
     "output_type": "stream",
     "text": [
      "Nombre de pays différent = 144\n",
      "france            0.397555\n",
      "european union    0.079265\n",
      "spain             0.076669\n",
      "italy             0.049948\n",
      "germany           0.037154\n",
      "                    ...   \n",
      "rwanda            0.000047\n",
      "zambia            0.000047\n",
      "guam              0.000047\n",
      "sudan             0.000047\n",
      "mozambique        0.000047\n",
      "Name: origins_tags, Length: 144, dtype: float64\n"
     ]
    }
   ],
   "source": [
    "country = np.unique(data_no_list[pd.notnull(data_no_list['origins_tags'])][\"origins_tags\"].values)\n",
    "print(f\"Nombre de pays différent = {len(country)}\")\n",
    "counter = data_no_list['origins_tags'].value_counts(normalize=True)\n",
    "print(counter)"
   ]
  },
  {
   "cell_type": "code",
   "execution_count": 62,
   "id": "48af73c7",
   "metadata": {},
   "outputs": [
    {
     "name": "stdout",
     "output_type": "stream",
     "text": [
      "Nombre de pays représentant moins de 1% = 134\n"
     ]
    },
    {
     "data": {
      "image/png": "[encoded data removed]",
      "text/plain": [
       "<Figure size 1080x432 with 1 Axes>"
      ]
     },
     "metadata": {},
     "output_type": "display_data"
    }
   ],
   "source": [
    "other_country = list(counter[counter<0.015].index)\n",
    "print(f\"Nombre de pays représentant moins de 1% = {len(other_country)}\")\n",
    "data_no_list['origins_tags'] = data_no_list['origins_tags'].apply(lambda x : x if x not in other_country else \"other\")\n",
    "counter = data_no_list['origins_tags'].value_counts(normalize=False)\n",
    "counter.plot(kind='pie', figsize=(15,6))\n",
    "plt.show()"
   ]
  },
  {
   "cell_type": "markdown",
   "id": "b1202843",
   "metadata": {},
   "source": [
    "La france est encore très représentée.  \n",
    "On note aussi une part importante de \"autre\".  \n",
    "Cela traduit une grande diversité de l'origines des produits"
   ]
  },
  {
   "cell_type": "markdown",
   "id": "91d9851b",
   "metadata": {},
   "source": [
    "#### Analyse des catégories"
   ]
  },
  {
   "cell_type": "code",
   "execution_count": 63,
   "id": "c2549b43",
   "metadata": {},
   "outputs": [],
   "source": [
    "data_no_list = DATA.explode(\"categories_tags\")"
   ]
  },
  {
   "cell_type": "code",
   "execution_count": 64,
   "id": "8504236d",
   "metadata": {},
   "outputs": [
    {
     "name": "stdout",
     "output_type": "stream",
     "text": [
      "Nombre de catégories différentes = 12850\n"
     ]
    }
   ],
   "source": [
    "categ = np.unique(data_no_list[pd.notnull(data_no_list['categories_tags'])][\"categories_tags\"].values)\n",
    "print(f\"Nombre de catégories différentes = {len(categ)}\")"
   ]
  },
  {
   "cell_type": "code",
   "execution_count": 65,
   "id": "39813fa4",
   "metadata": {},
   "outputs": [
    {
     "name": "stdout",
     "output_type": "stream",
     "text": [
      "Nombre de catégories attribuées à 2 ou moins produits = 12850\n"
     ]
    }
   ],
   "source": [
    "counter = data_no_list[\"categories_tags\"].value_counts()/len(data_no_list[pd.notnull(data_no_list[\"categories_tags\"])])\n",
    "other_categ = list(counter[counter<10].index)\n",
    "print(f\"Nombre de catégories attribuées à 2 ou moins produits = {len(other_categ)}\")"
   ]
  },
  {
   "cell_type": "code",
   "execution_count": 66,
   "id": "a6505c5e",
   "metadata": {},
   "outputs": [
    {
     "data": {
      "image/png": "[encoded data removed]",
      "text/plain": [
       "<Figure size 432x288 with 1 Axes>"
      ]
     },
     "metadata": {
      "needs_background": "light"
     },
     "output_type": "display_data"
    }
   ],
   "source": [
    "fig, ax = plt.subplots()\n",
    "counter.cumsum().plot(use_index=False, ax=ax)\n",
    "# inset axes....\n",
    "axins = ax.inset_axes([0.5, 0.3, 0.47, 0.47])\n",
    "counter.cumsum().plot(use_index=False, ax=axins)\n",
    "axins.set_xlim(-50, 1000)\n",
    "axins.set_ylim(0.05,1)\n",
    "#axins.set_ylim(y1, y2)\n",
    "ax.indicate_inset_zoom(axins, edgecolor=\"black\")\n",
    "ax.set_xlabel(\"# CATEG\")\n",
    "ax.set_ylabel(\"Normalized cumulative sum\")\n",
    "plt.show()"
   ]
  },
  {
   "cell_type": "markdown",
   "id": "8aa57a82",
   "metadata": {},
   "source": [
    "La grande majorité des catégories n'est attribuée qu'à un faible nombre de produits.  \n",
    "les 500 plus fréquentes catégories représentes plus de 80% des produits.  \n",
    "Il faudrait regrouper les catégories en un nombre plus faible (analyse des composantes principales, voir plus tard)"
   ]
  },
  {
   "cell_type": "markdown",
   "id": "3cfe70c9",
   "metadata": {},
   "source": [
    "#### Analyse des catégories PNNS\n",
    "#### groupe 1"
   ]
  },
  {
   "cell_type": "code",
   "execution_count": 67,
   "id": "637901a4",
   "metadata": {},
   "outputs": [
    {
     "name": "stdout",
     "output_type": "stream",
     "text": [
      "Nombre de catégories différentes = 9\n"
     ]
    }
   ],
   "source": [
    "categ = np.unique(DATA[pd.notnull(DATA['pnns_groups_1'])][\"pnns_groups_1\"].values)\n",
    "print(f\"Nombre de catégories différentes = {len(categ)}\")"
   ]
  },
  {
   "cell_type": "code",
   "execution_count": 68,
   "id": "a32ee4f9",
   "metadata": {},
   "outputs": [
    {
     "name": "stdout",
     "output_type": "stream",
     "text": [
      "sugary_snacks              12864\n",
      "beverages                   9033\n",
      "milk_and_dairy_products     8825\n",
      "cereals_and_potatoes        8458\n",
      "fish_meat_eggs              8041\n",
      "fruits_and_vegetables       6895\n",
      "composite_foods             6747\n",
      "fat_and_sauces              5216\n",
      "salty_snacks                2810\n",
      "Name: pnns_groups_1, dtype: int64\n"
     ]
    },
    {
     "data": {
      "image/png": "[encoded data removed]",
      "text/plain": [
       "<Figure size 432x288 with 1 Axes>"
      ]
     },
     "metadata": {},
     "output_type": "display_data"
    }
   ],
   "source": [
    "counter = DATA[\"pnns_groups_1\"].value_counts()\n",
    "print(counter)\n",
    "counter.plot(kind='pie')\n",
    "plt.show()"
   ]
  },
  {
   "cell_type": "markdown",
   "id": "ea6fe0f8",
   "metadata": {},
   "source": [
    "Le PNNS_goups_1 permet de gégnérer moins de catégories que la variable categories_tags.  \n",
    "Chaque catégorie est bien représentée."
   ]
  },
  {
   "cell_type": "markdown",
   "id": "c11ba3f6",
   "metadata": {},
   "source": [
    "#### groupe 2"
   ]
  },
  {
   "cell_type": "code",
   "execution_count": 69,
   "id": "f8f21304",
   "metadata": {},
   "outputs": [
    {
     "name": "stdout",
     "output_type": "stream",
     "text": [
      "Nombre de catégories différentes = 36\n"
     ]
    }
   ],
   "source": [
    "categ = np.unique(DATA[pd.notnull(DATA['pnns_groups_2'])][\"pnns_groups_2\"].values)\n",
    "print(f\"Nombre de catégories différentes = {len(categ)}\")"
   ]
  },
  {
   "cell_type": "markdown",
   "id": "ec644055",
   "metadata": {},
   "source": [
    "compte tenu du nombre important de catégories, elles ne seront pas représentées en diagramme."
   ]
  },
  {
   "cell_type": "code",
   "execution_count": 70,
   "id": "2bcabbb2",
   "metadata": {},
   "outputs": [
    {
     "name": "stdout",
     "output_type": "stream",
     "text": [
      "one_dish_meals                      5546\n",
      "sweets                              4698\n",
      "biscuits_and_cakes                  4561\n",
      "non_sugared_beverages               4302\n",
      "cereals                             4118\n",
      "cheese                              4024\n",
      "vegetables                          3774\n",
      "dressings_and_sauces                3602\n",
      "milk_and_yogurt                     3297\n",
      "processed_meat                      3247\n",
      "chocolate_products                  3109\n",
      "alcoholic_beverages                 2909\n",
      "fish_and_seafood                    2638\n",
      "sweetened_beverages                 2170\n",
      "fruits                              2121\n",
      "appetizers                          2101\n",
      "fruit_juices                        1924\n",
      "bread                               1838\n",
      "meat                                1694\n",
      "fats                                1614\n",
      "breakfast_cereals                   1408\n",
      "legumes                              929\n",
      "dairy_desserts                       783\n",
      "ice_cream                            721\n",
      "nuts                                 690\n",
      "sandwich                             686\n",
      "pizza_pies_and_quiche                515\n",
      "soups                                503\n",
      "dried_fruits                         497\n",
      "pastries                             496\n",
      "eggs                                 462\n",
      "fruit_nectars                        376\n",
      "artificially_sweetened_beverages     261\n",
      "potatoes                             165\n",
      "tripe_dishes                          69\n",
      "salty_and_fatty_products              19\n",
      "Name: pnns_groups_2, dtype: int64\n"
     ]
    }
   ],
   "source": [
    "counter = DATA[\"pnns_groups_2\"].value_counts()\n",
    "print(counter)"
   ]
  },
  {
   "cell_type": "markdown",
   "id": "a6411287",
   "metadata": {},
   "source": [
    "### Analyses des variables quantitatives discrètes\n",
    "#### Nombre d'additifs"
   ]
  },
  {
   "cell_type": "code",
   "execution_count": 71,
   "id": "4a215fd8",
   "metadata": {},
   "outputs": [
    {
     "name": "stdout",
     "output_type": "stream",
     "text": [
      "Nombre de valeurs uniques = 31\n",
      "Nombre moyen d'additif par produits = 1.94\n",
      "Nombre médian d'additif par produits = 1.00\n",
      "Deviation standard du nombre d'additifs par produit = 2.50\n",
      "Mesure d'asymétrie de la distribution = 2.18\n",
      "Mesure d'aplatissement de la distribution = 7.42\n"
     ]
    },
    {
     "data": {
      "image/png": "[encoded data removed]",
      "text/plain": [
       "<Figure size 1080x432 with 3 Axes>"
      ]
     },
     "metadata": {
      "needs_background": "light"
     },
     "output_type": "display_data"
    }
   ],
   "source": [
    "df = DATA[\"additives_n\"].value_counts(normalize=True).sort_index()\n",
    "print(f\"Nombre de valeurs uniques = {len(df)}\")\n",
    "print(f\"Nombre moyen d'additif par produits = {DATA['additives_n'].mean():.2f}\")\n",
    "print(f\"Nombre médian d'additif par produits = {DATA['additives_n'].median():.2f}\")\n",
    "print(f\"Deviation standard du nombre d'additifs par produit = {DATA['additives_n'].std():.2f}\")\n",
    "print(f\"Mesure d'asymétrie de la distribution = {DATA['additives_n'].skew():.2f}\")\n",
    "print(f\"Mesure d'aplatissement de la distribution = {DATA['additives_n'].kurtosis():.2f}\")\n",
    "\n",
    "fig, (ax1, ax2) = plt.subplots(nrows=1, ncols=2, figsize=(15,6))\n",
    "medianprops = {'color':\"black\"}\n",
    "meanprops = {'marker':'o', 'markeredgecolor':'black',\n",
    "            'markerfacecolor':'firebrick'}\n",
    "ax3 = ax1.twinx()\n",
    "ax1.bar(df.index, df.values)\n",
    "ax3.plot(df.index, df.values.cumsum(), linestyle='--', marker='o', color='red')\n",
    "ax1.set_xlabel(\"additives_n\")\n",
    "ax1.set_ylabel(\"Frequency\")\n",
    "ax3.set_ylabel(\"Cummulative frequency\")\n",
    "ax2.boxplot(DATA[pd.notnull(DATA[\"additives_n\"])][\"additives_n\"], vert=True, labels=[\"additives_n\"], \n",
    "            medianprops=medianprops, patch_artist=True, showmeans=True, meanprops=meanprops)\n",
    "fig.tight_layout()\n",
    "plt.subplots_adjust(wspace=0.3)\n",
    "plt.show()"
   ]
  },
  {
   "cell_type": "markdown",
   "id": "9014f916",
   "metadata": {},
   "source": [
    "### Analyse des variables quantitatives continues\n",
    "#### Détection des valeurs atypiques"
   ]
  },
  {
   "cell_type": "code",
   "execution_count": 72,
   "id": "acda0575",
   "metadata": {
    "scrolled": false
   },
   "outputs": [
    {
     "name": "stdout",
     "output_type": "stream",
     "text": [
      "------------------------------------------------------------\n",
      "          ===============\n",
      "          | energy_100g |\n",
      "          ===============\n",
      "Moyenne = 1141.91\n",
      "Mediane = 1100.00\n",
      "Deviation standard = 6447.15\n",
      "Mesure d'asymétrie de la distribution = 491.00\n",
      "Mesure d'aplatissement de la distribution = 247388.17\n",
      "Nombre de bins (règle de Sturges) = 19\n"
     ]
    },
    {
     "data": {
      "image/png": "[encoded data removed]",
      "text/plain": [
       "<Figure size 1080x432 with 2 Axes>"
      ]
     },
     "metadata": {
      "needs_background": "light"
     },
     "output_type": "display_data"
    },
    {
     "name": "stdout",
     "output_type": "stream",
     "text": [
      "------------------------------------------------------------\n",
      "          ============\n",
      "          | fat_100g |\n",
      "          ============\n",
      "Moyenne = 12.73\n",
      "Mediane = 5.00\n",
      "Deviation standard = 17.50\n",
      "Mesure d'asymétrie de la distribution = 2.19\n",
      "Mesure d'aplatissement de la distribution = 6.15\n",
      "Nombre de bins (règle de Sturges) = 19\n"
     ]
    },
    {
     "data": {
      "image/png": "[encoded data removed]",
      "text/plain": [
       "<Figure size 1080x432 with 2 Axes>"
      ]
     },
     "metadata": {
      "needs_background": "light"
     },
     "output_type": "display_data"
    },
    {
     "name": "stdout",
     "output_type": "stream",
     "text": [
      "------------------------------------------------------------\n",
      "          ======================\n",
      "          | saturated-fat_100g |\n",
      "          ======================\n",
      "Moyenne = 5.13\n",
      "Mediane = 1.79\n",
      "Deviation standard = 7.91\n",
      "Mesure d'asymétrie de la distribution = 3.46\n",
      "Mesure d'aplatissement de la distribution = 22.06\n",
      "Nombre de bins (règle de Sturges) = 19\n"
     ]
    },
    {
     "data": {
      "image/png": "[encoded data removed]",
      "text/plain": [
       "<Figure size 1080x432 with 2 Axes>"
      ]
     },
     "metadata": {
      "needs_background": "light"
     },
     "output_type": "display_data"
    },
    {
     "name": "stdout",
     "output_type": "stream",
     "text": [
      "------------------------------------------------------------\n",
      "          ===============================\n",
      "          | fruits-vegetables-nuts_100g |\n",
      "          ===============================\n",
      "Moyenne = 31.46\n",
      "Mediane = 23.00\n",
      "Deviation standard = 31.97\n",
      "Mesure d'asymétrie de la distribution = 0.68\n",
      "Mesure d'aplatissement de la distribution = -0.70\n",
      "Nombre de bins (règle de Sturges) = 19\n"
     ]
    },
    {
     "data": {
      "image/png": "[encoded data removed]",
      "text/plain": [
       "<Figure size 1080x432 with 2 Axes>"
      ]
     },
     "metadata": {
      "needs_background": "light"
     },
     "output_type": "display_data"
    },
    {
     "name": "stdout",
     "output_type": "stream",
     "text": [
      "------------------------------------------------------------\n",
      "          ===============\n",
      "          | sodium_100g |\n",
      "          ===============\n",
      "Moyenne = 0.65\n",
      "Mediane = 0.23\n",
      "Deviation standard = 2.66\n",
      "Mesure d'asymétrie de la distribution = 11.50\n",
      "Mesure d'aplatissement de la distribution = 161.20\n",
      "Nombre de bins (règle de Sturges) = 19\n"
     ]
    },
    {
     "data": {
      "image/png": "[encoded data removed]",
      "text/plain": [
       "<Figure size 1080x432 with 2 Axes>"
      ]
     },
     "metadata": {
      "needs_background": "light"
     },
     "output_type": "display_data"
    },
    {
     "name": "stdout",
     "output_type": "stream",
     "text": [
      "------------------------------------------------------------\n",
      "          ===============\n",
      "          | sugars_100g |\n",
      "          ===============\n",
      "Moyenne = 15.99\n",
      "Mediane = 5.71\n",
      "Deviation standard = 21.17\n",
      "Mesure d'asymétrie de la distribution = 1.67\n",
      "Mesure d'aplatissement de la distribution = 2.23\n",
      "Nombre de bins (règle de Sturges) = 19\n"
     ]
    },
    {
     "data": {
      "image/png": "[encoded data removed]",
      "text/plain": [
       "<Figure size 1080x432 with 2 Axes>"
      ]
     },
     "metadata": {
      "needs_background": "light"
     },
     "output_type": "display_data"
    },
    {
     "name": "stdout",
     "output_type": "stream",
     "text": [
      "------------------------------------------------------------\n",
      "          =========================\n",
      "          | carbon-footprint_100g |\n",
      "          =========================\n",
      "Moyenne = 341.70\n",
      "Mediane = 195.75\n",
      "Deviation standard = 425.21\n",
      "Mesure d'asymétrie de la distribution = 2.77\n",
      "Mesure d'aplatissement de la distribution = 10.29\n",
      "Nombre de bins (règle de Sturges) = 19\n"
     ]
    },
    {
     "data": {
      "image/png": "[encoded data removed]",
      "text/plain": [
       "<Figure size 1080x432 with 2 Axes>"
      ]
     },
     "metadata": {
      "needs_background": "light"
     },
     "output_type": "display_data"
    }
   ],
   "source": [
    "for variable in ['energy_100g', 'fat_100g', 'saturated-fat_100g', \n",
    "                 'fruits-vegetables-nuts_100g', 'sodium_100g', 'sugars_100g', 'carbon-footprint_100g'] :\n",
    "    print(\"-\"*60)\n",
    "    print(' '*10+\"=\"*(len(variable)+4))\n",
    "    print(' '*10+\"| \"+variable+' |')\n",
    "    print(' '*10+\"=\"*(len(variable)+4))\n",
    "    \n",
    "    print(f\"Moyenne = {DATA[variable].mean():.2f}\")\n",
    "    print(f\"Mediane = {DATA[variable].median():.2f}\")\n",
    "    print(f\"Deviation standard = {DATA[variable].std():.2f}\")\n",
    "    print(f\"Mesure d'asymétrie de la distribution = {DATA[variable].skew():.2f}\")\n",
    "    print(f\"Mesure d'aplatissement de la distribution = {DATA[variable].kurtosis():.2f}\")\n",
    "    \n",
    "    fig, (ax1, ax2) = plt.subplots(nrows=1, ncols=2, figsize=(15,6))\n",
    "    medianprops = {'color':\"black\"}\n",
    "    meanprops = {'marker':'o', 'markeredgecolor':'black',\n",
    "                'markerfacecolor':'firebrick'}\n",
    "    n_bins = int(1+np.log2(len(DATA[variable])))\n",
    "    print(f\"Nombre de bins (règle de Sturges) = {n_bins}\")\n",
    "    ax1.hist(DATA[variable], density=True, bins=n_bins)\n",
    "    ax2.boxplot(DATA[pd.notnull(DATA[variable])][variable], vert=True, labels=[variable], \n",
    "            medianprops=medianprops, patch_artist=True, showmeans=True, meanprops=meanprops)\n",
    "    plt.show()"
   ]
  },
  {
   "cell_type": "markdown",
   "id": "0cb7be77",
   "metadata": {},
   "source": [
    "Ces anlyses permettent de détecter plus facilement les outliers.  \n",
    "Les outliers sétectés et les actions à réalisées sont :  \n",
    "- energy_100g > 5000, il apparait peu probable que ces valeurs soient possible : suppression des valeurs\n",
    "- saturated-fat_100g > 60, ces valeurs sont atypiques et peu représentées : suppression des valeurs\n",
    "- sodium_100g > 50, ces valeurs sont atypiques (sauf pour des produits bien particuliers, comme le sel par ex), ne rien faire\n",
    "- carbon-footprint_100g > 2000, ces valeurs sont atypiques : suppression"
   ]
  },
  {
   "cell_type": "markdown",
   "id": "3aa9ec58",
   "metadata": {},
   "source": [
    "#### Suppression des outliers"
   ]
  },
  {
   "cell_type": "code",
   "execution_count": 73,
   "id": "ffde762c",
   "metadata": {},
   "outputs": [
    {
     "name": "stdout",
     "output_type": "stream",
     "text": [
      "5690.0 is higher than the target 5000\n",
      "5439.0 is higher than the target 5000\n",
      "10757.0 is higher than the target 5000\n",
      "6975.0 is higher than the target 5000\n",
      "6276.0 is higher than the target 5000\n",
      "13213.0 is higher than the target 5000\n",
      "6694.0 is higher than the target 5000\n",
      "6694.0 is higher than the target 5000\n",
      "14644.0 is higher than the target 5000\n",
      "5577.0 is higher than the target 5000\n",
      "5054.0 is higher than the target 5000\n",
      "10966.0 is higher than the target 5000\n",
      "11954.0 is higher than the target 5000\n",
      "5577.0 is higher than the target 5000\n",
      "5577.0 is higher than the target 5000\n",
      "6849.0 is higher than the target 5000\n",
      "110579.0 is higher than the target 5000\n",
      "6975.0 is higher than the target 5000\n",
      "14347.0 is higher than the target 5000\n",
      "94140.0 is higher than the target 5000\n",
      "8523.0 is higher than the target 5000\n",
      "8523.0 is higher than the target 5000\n",
      "5439.0 is higher than the target 5000\n",
      "6276.0 is higher than the target 5000\n",
      "5577.0 is higher than the target 5000\n",
      "7012.0 is higher than the target 5000\n",
      "26861.0 is higher than the target 5000\n",
      "22000.0 is higher than the target 5000\n",
      "9983.0 is higher than the target 5000\n",
      "16000.0 is higher than the target 5000\n",
      "5050.0 is higher than the target 5000\n",
      "5268.0 is higher than the target 5000\n",
      "5720.0 is higher than the target 5000\n",
      "5347.0 is higher than the target 5000\n",
      "5452.0 is higher than the target 5000\n",
      "5904.0 is higher than the target 5000\n",
      "5619.0 is higher than the target 5000\n",
      "5205.0 is higher than the target 5000\n",
      "5268.0 is higher than the target 5000\n",
      "6109.0 is higher than the target 5000\n",
      "6138.0 is higher than the target 5000\n",
      "3251373.0 is higher than the target 5000\n",
      "5263.0 is higher than the target 5000\n",
      "5766.0 is higher than the target 5000\n",
      "7339.0 is higher than the target 5000\n",
      "69292.0 is higher than the target 5000\n",
      "6393.0 is higher than the target 5000\n",
      "5272.0 is higher than the target 5000\n",
      "5247.0 is higher than the target 5000\n",
      "15481.0 is higher than the target 5000\n",
      "9050.0 is higher than the target 5000\n",
      "6134.0 is higher than the target 5000\n",
      "6117.0 is higher than the target 5000\n",
      "5104.0 is higher than the target 5000\n",
      "5611.0 is higher than the target 5000\n",
      "6803.0 is higher than the target 5000\n",
      "5481.0 is higher than the target 5000\n",
      "5598.0 is higher than the target 5000\n",
      "5100.0 is higher than the target 5000\n",
      "18700.0 is higher than the target 5000\n",
      "182764.0 is higher than the target 5000\n",
      "7029.0 is higher than the target 5000\n",
      "5611.0 is higher than the target 5000\n",
      "5356.0 is higher than the target 5000\n",
      "5749.0 is higher than the target 5000\n",
      "6063.0 is higher than the target 5000\n",
      "5774.0 is higher than the target 5000\n",
      "5653.0 is higher than the target 5000\n",
      "6067.0 is higher than the target 5000\n",
      "8715.0 is higher than the target 5000\n",
      "5732.0 is higher than the target 5000\n",
      "6268.0 is higher than the target 5000\n",
      "9623.0 is higher than the target 5000\n",
      "6017.0 is higher than the target 5000\n",
      "5941.0 is higher than the target 5000\n",
      "6046.0 is higher than the target 5000\n",
      "7341.0 is higher than the target 5000\n",
      "12050.0 is higher than the target 5000\n",
      "8400.0 is higher than the target 5000\n",
      "7470.0 is higher than the target 5000\n",
      "5749.0 is higher than the target 5000\n",
      "7966.0 is higher than the target 5000\n",
      "231199.0 is higher than the target 5000\n",
      "5644.0 is higher than the target 5000\n",
      "87217.0 is higher than the target 5000\n",
      "5925.0 is higher than the target 5000\n"
     ]
    }
   ],
   "source": [
    "DATA[\"energy_100g\"] = DATA[\"energy_100g\"].apply(is_lower, target=5000)"
   ]
  },
  {
   "cell_type": "code",
   "execution_count": 74,
   "id": "67b0bc6d",
   "metadata": {},
   "outputs": [
    {
     "name": "stdout",
     "output_type": "stream",
     "text": [
      "85.71 is higher than the target 60\n",
      "61.29 is higher than the target 60\n",
      "66.7 is higher than the target 60\n",
      "92.86 is higher than the target 60\n",
      "92.86 is higher than the target 60\n",
      "92.86 is higher than the target 60\n",
      "92.86 is higher than the target 60\n",
      "85.71 is higher than the target 60\n",
      "85.71 is higher than the target 60\n",
      "85.71 is higher than the target 60\n",
      "64.0 is higher than the target 60\n",
      "92.86 is higher than the target 60\n",
      "92.86 is higher than the target 60\n",
      "92.86 is higher than the target 60\n",
      "85.71 is higher than the target 60\n",
      "92.86 is higher than the target 60\n",
      "85.71 is higher than the target 60\n",
      "85.71 is higher than the target 60\n",
      "85.71 is higher than the target 60\n",
      "85.71 is higher than the target 60\n",
      "85.7 is higher than the target 60\n",
      "85.71 is higher than the target 60\n",
      "85.7 is higher than the target 60\n",
      "85.71 is higher than the target 60\n",
      "85.71 is higher than the target 60\n",
      "80.0 is higher than the target 60\n",
      "92.86 is higher than the target 60\n",
      "85.71 is higher than the target 60\n",
      "92.86 is higher than the target 60\n",
      "86.67 is higher than the target 60\n",
      "80.0 is higher than the target 60\n",
      "86.67 is higher than the target 60\n",
      "85.71 is higher than the target 60\n",
      "92.86 is higher than the target 60\n",
      "60.71 is higher than the target 60\n",
      "86.67 is higher than the target 60\n",
      "86.67 is higher than the target 60\n",
      "86.67 is higher than the target 60\n",
      "86.67 is higher than the target 60\n",
      "86.67 is higher than the target 60\n",
      "92.86 is higher than the target 60\n",
      "92.86 is higher than the target 60\n",
      "86.67 is higher than the target 60\n",
      "86.67 is higher than the target 60\n",
      "92.86 is higher than the target 60\n",
      "92.86 is higher than the target 60\n",
      "85.71 is higher than the target 60\n",
      "85.71 is higher than the target 60\n",
      "85.71 is higher than the target 60\n",
      "64.22 is higher than the target 60\n",
      "85.71 is higher than the target 60\n",
      "85.71 is higher than the target 60\n",
      "85.71 is higher than the target 60\n",
      "85.71 is higher than the target 60\n",
      "85.71 is higher than the target 60\n",
      "85.71 is higher than the target 60\n",
      "85.71 is higher than the target 60\n",
      "64.29 is higher than the target 60\n",
      "62.5 is higher than the target 60\n",
      "85.71 is higher than the target 60\n",
      "85.71 is higher than the target 60\n",
      "80.0 is higher than the target 60\n",
      "80.0 is higher than the target 60\n",
      "92.86 is higher than the target 60\n",
      "61.29 is higher than the target 60\n",
      "60.38 is higher than the target 60\n",
      "66.67 is higher than the target 60\n",
      "92.86 is higher than the target 60\n",
      "93.33 is higher than the target 60\n",
      "92.86 is higher than the target 60\n",
      "100.0 is higher than the target 60\n",
      "65.6 is higher than the target 60\n",
      "85.71 is higher than the target 60\n",
      "86.67 is higher than the target 60\n",
      "83.33 is higher than the target 60\n",
      "86.67 is higher than the target 60\n",
      "92.86 is higher than the target 60\n",
      "85.71 is higher than the target 60\n",
      "85.71 is higher than the target 60\n",
      "85.71 is higher than the target 60\n",
      "66.67 is higher than the target 60\n",
      "92.86 is higher than the target 60\n",
      "92.86 is higher than the target 60\n",
      "92.86 is higher than the target 60\n",
      "92.86 is higher than the target 60\n",
      "92.86 is higher than the target 60\n",
      "80.0 is higher than the target 60\n",
      "80.0 is higher than the target 60\n",
      "85.71 is higher than the target 60\n",
      "85.71 is higher than the target 60\n",
      "85.71 is higher than the target 60\n",
      "80.0 is higher than the target 60\n",
      "85.71 is higher than the target 60\n",
      "85.71 is higher than the target 60\n",
      "85.71 is higher than the target 60\n",
      "86.67 is higher than the target 60\n",
      "100.0 is higher than the target 60\n",
      "92.86 is higher than the target 60\n",
      "92.86 is higher than the target 60\n",
      "92.1 is higher than the target 60\n",
      "64.29 is higher than the target 60\n",
      "90.0 is higher than the target 60\n",
      "90.0 is higher than the target 60\n",
      "85.71 is higher than the target 60\n",
      "86.67 is higher than the target 60\n",
      "86.67 is higher than the target 60\n",
      "86.67 is higher than the target 60\n",
      "71.43 is higher than the target 60\n",
      "92.86 is higher than the target 60\n",
      "85.71 is higher than the target 60\n",
      "86.67 is higher than the target 60\n",
      "86.67 is higher than the target 60\n",
      "86.67 is higher than the target 60\n",
      "86.67 is higher than the target 60\n",
      "86.67 is higher than the target 60\n",
      "86.67 is higher than the target 60\n",
      "86.67 is higher than the target 60\n",
      "86.67 is higher than the target 60\n",
      "86.67 is higher than the target 60\n",
      "64.29 is higher than the target 60\n",
      "80.0 is higher than the target 60\n",
      "80.0 is higher than the target 60\n",
      "80.0 is higher than the target 60\n",
      "80.0 is higher than the target 60\n",
      "80.0 is higher than the target 60\n",
      "62.5 is higher than the target 60\n",
      "86.67 is higher than the target 60\n",
      "64.29 is higher than the target 60\n",
      "92.86 is higher than the target 60\n",
      "85.71 is higher than the target 60\n",
      "64.29 is higher than the target 60\n",
      "80.0 is higher than the target 60\n",
      "80.0 is higher than the target 60\n",
      "92.86 is higher than the target 60\n",
      "92.86 is higher than the target 60\n",
      "89.29 is higher than the target 60\n",
      "85.71 is higher than the target 60\n",
      "85.71 is higher than the target 60\n",
      "85.71 is higher than the target 60\n",
      "85.71 is higher than the target 60\n",
      "85.71 is higher than the target 60\n",
      "86.67 is higher than the target 60\n",
      "86.67 is higher than the target 60\n",
      "86.67 is higher than the target 60\n",
      "86.67 is higher than the target 60\n",
      "86.67 is higher than the target 60\n",
      "85.71 is higher than the target 60\n",
      "85.71 is higher than the target 60\n",
      "100.0 is higher than the target 60\n",
      "80.0 is higher than the target 60\n",
      "100.0 is higher than the target 60\n",
      "100.0 is higher than the target 60\n",
      "87.0 is higher than the target 60\n",
      "87.0 is higher than the target 60\n",
      "90.0 is higher than the target 60\n",
      "86.67 is higher than the target 60\n",
      "86.67 is higher than the target 60\n",
      "86.67 is higher than the target 60\n",
      "86.67 is higher than the target 60\n",
      "85.71 is higher than the target 60\n",
      "80.0 is higher than the target 60\n",
      "60.71 is higher than the target 60\n",
      "80.0 is higher than the target 60\n",
      "80.0 is higher than the target 60\n",
      "86.67 is higher than the target 60\n",
      "86.67 is higher than the target 60\n",
      "92.86 is higher than the target 60\n",
      "92.86 is higher than the target 60\n",
      "64.29 is higher than the target 60\n",
      "83.3 is higher than the target 60\n",
      "92.86 is higher than the target 60\n",
      "60.71 is higher than the target 60\n",
      "85.71 is higher than the target 60\n",
      "80.0 is higher than the target 60\n",
      "89.29 is higher than the target 60\n",
      "86.67 is higher than the target 60\n",
      "86.67 is higher than the target 60\n",
      "92.86 is higher than the target 60\n",
      "86.67 is higher than the target 60\n",
      "92.86 is higher than the target 60\n",
      "90.0 is higher than the target 60\n",
      "80.0 is higher than the target 60\n",
      "100.0 is higher than the target 60\n",
      "92.86 is higher than the target 60\n",
      "90.0 is higher than the target 60\n",
      "92.86 is higher than the target 60\n",
      "92.86 is higher than the target 60\n",
      "92.86 is higher than the target 60\n",
      "92.86 is higher than the target 60\n",
      "70.52 is higher than the target 60\n",
      "71.43 is higher than the target 60\n",
      "64.29 is higher than the target 60\n",
      "78.57 is higher than the target 60\n",
      "78.57 is higher than the target 60\n",
      "78.57 is higher than the target 60\n",
      "78.6 is higher than the target 60\n",
      "78.57 is higher than the target 60\n",
      "78.57 is higher than the target 60\n",
      "64.29 is higher than the target 60\n",
      "60.71 is higher than the target 60\n",
      "86.67 is higher than the target 60\n",
      "86.67 is higher than the target 60\n",
      "67.86 is higher than the target 60\n",
      "62.5 is higher than the target 60\n",
      "86.67 is higher than the target 60\n",
      "86.67 is higher than the target 60\n",
      "86.67 is higher than the target 60\n",
      "86.67 is higher than the target 60\n",
      "85.71 is higher than the target 60\n",
      "80.0 is higher than the target 60\n",
      "73.8 is higher than the target 60\n",
      "100.0 is higher than the target 60\n",
      "61.6 is higher than the target 60\n",
      "100.0 is higher than the target 60\n",
      "64.9 is higher than the target 60\n",
      "62.0 is higher than the target 60\n",
      "80.0 is higher than the target 60\n",
      "70.0 is higher than the target 60\n",
      "61.0 is higher than the target 60\n",
      "82.0 is higher than the target 60\n",
      "92.0 is higher than the target 60\n",
      "64.0 is higher than the target 60\n",
      "82.0 is higher than the target 60\n",
      "77.0 is higher than the target 60\n",
      "91.0 is higher than the target 60\n",
      "80.0 is higher than the target 60\n",
      "89.0 is higher than the target 60\n",
      "60.4 is higher than the target 60\n",
      "61.0 is higher than the target 60\n",
      "61.0 is higher than the target 60\n",
      "61.0 is higher than the target 60\n",
      "68.0 is higher than the target 60\n",
      "86.0 is higher than the target 60\n",
      "63.0 is higher than the target 60\n",
      "87.0 is higher than the target 60\n",
      "84.0 is higher than the target 60\n",
      "87.0 is higher than the target 60\n",
      "100.0 is higher than the target 60\n",
      "65.0 is higher than the target 60\n",
      "93.0 is higher than the target 60\n",
      "93.0 is higher than the target 60\n",
      "75.0 is higher than the target 60\n",
      "93.0 is higher than the target 60\n",
      "93.0 is higher than the target 60\n",
      "66.0 is higher than the target 60\n",
      "63.0 is higher than the target 60\n",
      "65.6 is higher than the target 60\n",
      "80.0 is higher than the target 60\n",
      "65.0 is higher than the target 60\n",
      "87.0 is higher than the target 60\n",
      "87.0 is higher than the target 60\n"
     ]
    },
    {
     "name": "stdout",
     "output_type": "stream",
     "text": [
      "64.0 is higher than the target 60\n",
      "63.5 is higher than the target 60\n",
      "74.0 is higher than the target 60\n",
      "61.1 is higher than the target 60\n",
      "63.5 is higher than the target 60\n",
      "85.0 is higher than the target 60\n",
      "82.1 is higher than the target 60\n",
      "73.0 is higher than the target 60\n",
      "90.4 is higher than the target 60\n",
      "85.5 is higher than the target 60\n",
      "87.0 is higher than the target 60\n",
      "78.0 is higher than the target 60\n",
      "88.96 is higher than the target 60\n",
      "88.96 is higher than the target 60\n",
      "90.0 is higher than the target 60\n",
      "87.0 is higher than the target 60\n",
      "84.0 is higher than the target 60\n",
      "66.0 is higher than the target 60\n",
      "96.0 is higher than the target 60\n",
      "84.0 is higher than the target 60\n",
      "95.0 is higher than the target 60\n",
      "95.0 is higher than the target 60\n",
      "95.0 is higher than the target 60\n",
      "64.9 is higher than the target 60\n",
      "91.0 is higher than the target 60\n",
      "91.0 is higher than the target 60\n",
      "64.0 is higher than the target 60\n",
      "64.0 is higher than the target 60\n",
      "92.0 is higher than the target 60\n",
      "92.0 is higher than the target 60\n",
      "65.0 is higher than the target 60\n",
      "64.9 is higher than the target 60\n",
      "93.1 is higher than the target 60\n",
      "87.0 is higher than the target 60\n",
      "87.0 is higher than the target 60\n",
      "69.9 is higher than the target 60\n",
      "93.0 is higher than the target 60\n",
      "99.0 is higher than the target 60\n",
      "93.8 is higher than the target 60\n",
      "92.2 is higher than the target 60\n",
      "77.0 is higher than the target 60\n",
      "93.0 is higher than the target 60\n",
      "86.0 is higher than the target 60\n",
      "85.0 is higher than the target 60\n",
      "84.0 is higher than the target 60\n",
      "93.0 is higher than the target 60\n",
      "64.7 is higher than the target 60\n",
      "95.0 is higher than the target 60\n",
      "61.6 is higher than the target 60\n",
      "62.5 is higher than the target 60\n",
      "92.86 is higher than the target 60\n",
      "70.2 is higher than the target 60\n",
      "95.5 is higher than the target 60\n",
      "86.5 is higher than the target 60\n",
      "63.3 is higher than the target 60\n",
      "78.7 is higher than the target 60\n",
      "100.0 is higher than the target 60\n",
      "86.0 is higher than the target 60\n",
      "96.0 is higher than the target 60\n",
      "80.0 is higher than the target 60\n",
      "90.6 is higher than the target 60\n",
      "91.0 is higher than the target 60\n",
      "71.6 is higher than the target 60\n",
      "68.6 is higher than the target 60\n",
      "71.0 is higher than the target 60\n",
      "73.0 is higher than the target 60\n",
      "74.0 is higher than the target 60\n",
      "65.9 is higher than the target 60\n",
      "92.1 is higher than the target 60\n",
      "91.0 is higher than the target 60\n",
      "67.0 is higher than the target 60\n",
      "82.4 is higher than the target 60\n",
      "100.0 is higher than the target 60\n",
      "62.0 is higher than the target 60\n",
      "85.71 is higher than the target 60\n",
      "85.71 is higher than the target 60\n",
      "65.0 is higher than the target 60\n",
      "84.62 is higher than the target 60\n",
      "70.0 is higher than the target 60\n",
      "65.0 is higher than the target 60\n",
      "65.0 is higher than the target 60\n",
      "90.0 is higher than the target 60\n",
      "98.0 is higher than the target 60\n",
      "100.0 is higher than the target 60\n",
      "88.0 is higher than the target 60\n",
      "72.0 is higher than the target 60\n",
      "88.0 is higher than the target 60\n",
      "61.8 is higher than the target 60\n",
      "67.0 is higher than the target 60\n",
      "95.0 is higher than the target 60\n",
      "88.0 is higher than the target 60\n",
      "94.0 is higher than the target 60\n",
      "91.0 is higher than the target 60\n",
      "91.3 is higher than the target 60\n",
      "67.1 is higher than the target 60\n",
      "69.0 is higher than the target 60\n",
      "80.0 is higher than the target 60\n",
      "70.0 is higher than the target 60\n",
      "60.4 is higher than the target 60\n",
      "70.5 is higher than the target 60\n",
      "85.0 is higher than the target 60\n",
      "91.0 is higher than the target 60\n",
      "70.0 is higher than the target 60\n",
      "76.0 is higher than the target 60\n",
      "86.7 is higher than the target 60\n",
      "91.0 is higher than the target 60\n",
      "86.0 is higher than the target 60\n",
      "71.43 is higher than the target 60\n",
      "71.43 is higher than the target 60\n",
      "71.43 is higher than the target 60\n",
      "94.0 is higher than the target 60\n",
      "65.33 is higher than the target 60\n",
      "99.0 is higher than the target 60\n",
      "99.9 is higher than the target 60\n",
      "93.33 is higher than the target 60\n",
      "93.33 is higher than the target 60\n",
      "86.0 is higher than the target 60\n"
     ]
    }
   ],
   "source": [
    "DATA[\"saturated-fat_100g\"] = DATA[\"saturated-fat_100g\"].apply(is_lower, target=60)"
   ]
  },
  {
   "cell_type": "code",
   "execution_count": 75,
   "id": "9b8700ed",
   "metadata": {
    "scrolled": true
   },
   "outputs": [
    {
     "name": "stdout",
     "output_type": "stream",
     "text": [
      "2520.0 is higher than the target 2000\n",
      "2380.0 is higher than the target 2000\n",
      "2509.0 is higher than the target 2000\n",
      "2842.0 is higher than the target 2000\n"
     ]
    }
   ],
   "source": [
    "DATA[\"carbon-footprint_100g\"] = DATA[\"carbon-footprint_100g\"].apply(is_lower, target=2000)"
   ]
  },
  {
   "cell_type": "markdown",
   "id": "39cb95f6",
   "metadata": {},
   "source": [
    "#### Représentations des données sans outliers"
   ]
  },
  {
   "cell_type": "code",
   "execution_count": 43,
   "id": "2f9cb2c9",
   "metadata": {},
   "outputs": [
    {
     "name": "stdout",
     "output_type": "stream",
     "text": [
      "------------------------------------------------------------\n",
      "          ===============\n",
      "          | energy_100g |\n",
      "          ===============\n",
      "Moyenne = 1124.54\n",
      "Mediane = 1100.00\n",
      "Deviation standard = 797.58\n",
      "Mesure d'asymétrie de la distribution = 0.47\n",
      "Mesure d'aplatissement de la distribution = -0.34\n",
      "Nombre de bins (règle de Sturges) = 19\n"
     ]
    },
    {
     "data": {
      "image/png": "[encoded data removed]",
      "text/plain": [
       "<Figure size 1080x432 with 2 Axes>"
      ]
     },
     "metadata": {
      "needs_background": "light"
     },
     "output_type": "display_data"
    },
    {
     "name": "stdout",
     "output_type": "stream",
     "text": [
      "------------------------------------------------------------\n",
      "          ============\n",
      "          | fat_100g |\n",
      "          ============\n",
      "Moyenne = 12.73\n",
      "Mediane = 5.00\n",
      "Deviation standard = 17.50\n",
      "Mesure d'asymétrie de la distribution = 2.19\n",
      "Mesure d'aplatissement de la distribution = 6.15\n",
      "Nombre de bins (règle de Sturges) = 19\n"
     ]
    },
    {
     "data": {
      "image/png": "[encoded data removed]",
      "text/plain": [
       "<Figure size 1080x432 with 2 Axes>"
      ]
     },
     "metadata": {
      "needs_background": "light"
     },
     "output_type": "display_data"
    },
    {
     "name": "stdout",
     "output_type": "stream",
     "text": [
      "------------------------------------------------------------\n",
      "          ======================\n",
      "          | saturated-fat_100g |\n",
      "          ======================\n",
      "Moyenne = 5.00\n",
      "Mediane = 1.79\n",
      "Deviation standard = 7.27\n",
      "Mesure d'asymétrie de la distribution = 2.47\n",
      "Mesure d'aplatissement de la distribution = 9.42\n",
      "Nombre de bins (règle de Sturges) = 19\n"
     ]
    },
    {
     "data": {
      "image/png": "[encoded data removed]",
      "text/plain": [
       "<Figure size 1080x432 with 2 Axes>"
      ]
     },
     "metadata": {
      "needs_background": "light"
     },
     "output_type": "display_data"
    },
    {
     "name": "stdout",
     "output_type": "stream",
     "text": [
      "------------------------------------------------------------\n",
      "          ===============================\n",
      "          | fruits-vegetables-nuts_100g |\n",
      "          ===============================\n",
      "Moyenne = 31.46\n",
      "Mediane = 23.00\n",
      "Deviation standard = 31.97\n",
      "Mesure d'asymétrie de la distribution = 0.68\n",
      "Mesure d'aplatissement de la distribution = -0.70\n",
      "Nombre de bins (règle de Sturges) = 19\n"
     ]
    },
    {
     "data": {
      "image/png": "[encoded data removed]",
      "text/plain": [
       "<Figure size 1080x432 with 2 Axes>"
      ]
     },
     "metadata": {
      "needs_background": "light"
     },
     "output_type": "display_data"
    },
    {
     "name": "stdout",
     "output_type": "stream",
     "text": [
      "------------------------------------------------------------\n",
      "          ===============\n",
      "          | sodium_100g |\n",
      "          ===============\n",
      "Moyenne = 0.65\n",
      "Mediane = 0.23\n",
      "Deviation standard = 2.66\n",
      "Mesure d'asymétrie de la distribution = 11.50\n",
      "Mesure d'aplatissement de la distribution = 161.20\n",
      "Nombre de bins (règle de Sturges) = 19\n"
     ]
    },
    {
     "data": {
      "image/png": "[encoded data removed]",
      "text/plain": [
       "<Figure size 1080x432 with 2 Axes>"
      ]
     },
     "metadata": {
      "needs_background": "light"
     },
     "output_type": "display_data"
    },
    {
     "name": "stdout",
     "output_type": "stream",
     "text": [
      "------------------------------------------------------------\n",
      "          ===============\n",
      "          | sugars_100g |\n",
      "          ===============\n",
      "Moyenne = 15.99\n",
      "Mediane = 5.71\n",
      "Deviation standard = 21.17\n",
      "Mesure d'asymétrie de la distribution = 1.67\n",
      "Mesure d'aplatissement de la distribution = 2.23\n",
      "Nombre de bins (règle de Sturges) = 19\n"
     ]
    },
    {
     "data": {
      "image/png": "[encoded data removed]",
      "text/plain": [
       "<Figure size 1080x432 with 2 Axes>"
      ]
     },
     "metadata": {
      "needs_background": "light"
     },
     "output_type": "display_data"
    },
    {
     "name": "stdout",
     "output_type": "stream",
     "text": [
      "------------------------------------------------------------\n",
      "          =========================\n",
      "          | carbon-footprint_100g |\n",
      "          =========================\n",
      "Moyenne = 308.05\n",
      "Mediane = 192.65\n",
      "Deviation standard = 327.03\n",
      "Mesure d'asymétrie de la distribution = 1.61\n",
      "Mesure d'aplatissement de la distribution = 1.93\n",
      "Nombre de bins (règle de Sturges) = 19\n"
     ]
    },
    {
     "data": {
      "image/png": "[encoded data removed]",
      "text/plain": [
       "<Figure size 1080x432 with 2 Axes>"
      ]
     },
     "metadata": {
      "needs_background": "light"
     },
     "output_type": "display_data"
    }
   ],
   "source": [
    "for variable in ['energy_100g', 'fat_100g', 'saturated-fat_100g', \n",
    "                 'fruits-vegetables-nuts_100g', 'sodium_100g', 'sugars_100g', 'carbon-footprint_100g'] :\n",
    "    print(\"-\"*60)\n",
    "    print(' '*10+\"=\"*(len(variable)+4))\n",
    "    print(' '*10+\"| \"+variable+' |')\n",
    "    print(' '*10+\"=\"*(len(variable)+4))\n",
    "    \n",
    "    print(f\"Moyenne = {DATA[variable].mean():.2f}\")\n",
    "    print(f\"Mediane = {DATA[variable].median():.2f}\")\n",
    "    print(f\"Deviation standard = {DATA[variable].std():.2f}\")\n",
    "    print(f\"Mesure d'asymétrie de la distribution = {DATA[variable].skew():.2f}\")\n",
    "    print(f\"Mesure d'aplatissement de la distribution = {DATA[variable].kurtosis():.2f}\")\n",
    "    \n",
    "    fig, (ax1, ax2) = plt.subplots(nrows=1, ncols=2, figsize=(15,6))\n",
    "    medianprops = {'color':\"black\"}\n",
    "    meanprops = {'marker':'o', 'markeredgecolor':'black',\n",
    "                'markerfacecolor':'firebrick'}\n",
    "    n_bins = int(1+np.log2(len(DATA[variable])))\n",
    "    print(f\"Nombre de bins (règle de Sturges) = {n_bins}\")\n",
    "    ax1.hist(DATA[variable], density=True, bins=n_bins)\n",
    "    ax2.boxplot(DATA[pd.notnull(DATA[variable])][variable], vert=True, labels=[variable], \n",
    "            medianprops=medianprops, patch_artist=True, showmeans=True, meanprops=meanprops)\n",
    "    plt.show()"
   ]
  }
 ],
 "metadata": {
  "kernelspec": {
   "display_name": "Python 3 (ipykernel)",
   "language": "python",
   "name": "python3"
  },
  "language_info": {
   "codemirror_mode": {
    "name": "ipython",
    "version": 3
   },
   "file_extension": ".py",
   "mimetype": "text/x-python",
   "name": "python",
   "nbconvert_exporter": "python",
   "pygments_lexer": "ipython3",
   "version": "3.9.7"
  }
 },
 "nbformat": 4,
 "nbformat_minor": 5
}
